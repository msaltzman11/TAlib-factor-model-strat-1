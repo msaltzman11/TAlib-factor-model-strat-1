{
 "cells": [
  {
   "cell_type": "code",
   "execution_count": 4,
   "id": "a021dffb-cd45-457e-9cdf-69067f674a83",
   "metadata": {},
   "outputs": [],
   "source": [
    "import yfinance as yf\n",
    "import talib\n",
    "import datetime\n",
    "import numpy as np\n",
    "import pandas as pd\n",
    "import matplotlib.pyplot as plt\n",
    "from scipy import stats\n",
    "from scipy.optimize import minimize, basinhopping\n",
    "from sklearn.decomposition import PCA"
   ]
  },
  {
   "cell_type": "code",
   "execution_count": 7,
   "id": "304cc3ab-5ad3-45b2-88ba-8badc45abf4e",
   "metadata": {},
   "outputs": [
    {
     "name": "stdout",
     "output_type": "stream",
     "text": [
      "[*********************100%***********************]  14 of 14 completed\n"
     ]
    },
    {
     "data": {
      "text/html": [
       "<div>\n",
       "<style scoped>\n",
       "    .dataframe tbody tr th:only-of-type {\n",
       "        vertical-align: middle;\n",
       "    }\n",
       "\n",
       "    .dataframe tbody tr th {\n",
       "        vertical-align: top;\n",
       "    }\n",
       "\n",
       "    .dataframe thead tr th {\n",
       "        text-align: left;\n",
       "    }\n",
       "\n",
       "    .dataframe thead tr:last-of-type th {\n",
       "        text-align: right;\n",
       "    }\n",
       "</style>\n",
       "<table border=\"1\" class=\"dataframe\">\n",
       "  <thead>\n",
       "    <tr>\n",
       "      <th></th>\n",
       "      <th colspan=\"10\" halign=\"left\">Adj Close</th>\n",
       "      <th>...</th>\n",
       "      <th colspan=\"10\" halign=\"left\">Volume</th>\n",
       "    </tr>\n",
       "    <tr>\n",
       "      <th></th>\n",
       "      <th>A</th>\n",
       "      <th>AAP</th>\n",
       "      <th>ABBV</th>\n",
       "      <th>ABMD</th>\n",
       "      <th>ABT</th>\n",
       "      <th>ACN</th>\n",
       "      <th>ADBE</th>\n",
       "      <th>AES</th>\n",
       "      <th>AFL</th>\n",
       "      <th>AKAM</th>\n",
       "      <th>...</th>\n",
       "      <th>ABT</th>\n",
       "      <th>ACN</th>\n",
       "      <th>ADBE</th>\n",
       "      <th>AES</th>\n",
       "      <th>AFL</th>\n",
       "      <th>AKAM</th>\n",
       "      <th>AMD</th>\n",
       "      <th>APD</th>\n",
       "      <th>ATVI</th>\n",
       "      <th>MMM</th>\n",
       "    </tr>\n",
       "    <tr>\n",
       "      <th>Date</th>\n",
       "      <th></th>\n",
       "      <th></th>\n",
       "      <th></th>\n",
       "      <th></th>\n",
       "      <th></th>\n",
       "      <th></th>\n",
       "      <th></th>\n",
       "      <th></th>\n",
       "      <th></th>\n",
       "      <th></th>\n",
       "      <th></th>\n",
       "      <th></th>\n",
       "      <th></th>\n",
       "      <th></th>\n",
       "      <th></th>\n",
       "      <th></th>\n",
       "      <th></th>\n",
       "      <th></th>\n",
       "      <th></th>\n",
       "      <th></th>\n",
       "      <th></th>\n",
       "    </tr>\n",
       "  </thead>\n",
       "  <tbody>\n",
       "    <tr>\n",
       "      <th>2005-01-03 00:00:00-05:00</th>\n",
       "      <td>14.593754</td>\n",
       "      <td>26.046278</td>\n",
       "      <td>NaN</td>\n",
       "      <td>15.01</td>\n",
       "      <td>14.587080</td>\n",
       "      <td>19.218695</td>\n",
       "      <td>30.838949</td>\n",
       "      <td>9.923674</td>\n",
       "      <td>13.082966</td>\n",
       "      <td>12.82</td>\n",
       "      <td>...</td>\n",
       "      <td>7165902</td>\n",
       "      <td>2425500</td>\n",
       "      <td>5508800</td>\n",
       "      <td>2011200</td>\n",
       "      <td>2342200</td>\n",
       "      <td>2508200</td>\n",
       "      <td>9275300</td>\n",
       "      <td>892906</td>\n",
       "      <td>7157689</td>\n",
       "      <td>3192000</td>\n",
       "    </tr>\n",
       "    <tr>\n",
       "      <th>2005-01-04 00:00:00-05:00</th>\n",
       "      <td>14.208741</td>\n",
       "      <td>25.872828</td>\n",
       "      <td>NaN</td>\n",
       "      <td>14.98</td>\n",
       "      <td>14.440171</td>\n",
       "      <td>18.766834</td>\n",
       "      <td>30.024111</td>\n",
       "      <td>9.557489</td>\n",
       "      <td>13.069787</td>\n",
       "      <td>12.20</td>\n",
       "      <td>...</td>\n",
       "      <td>7886828</td>\n",
       "      <td>4101800</td>\n",
       "      <td>7515400</td>\n",
       "      <td>2242500</td>\n",
       "      <td>3044800</td>\n",
       "      <td>2066700</td>\n",
       "      <td>20375800</td>\n",
       "      <td>1456972</td>\n",
       "      <td>7491911</td>\n",
       "      <td>3644600</td>\n",
       "    </tr>\n",
       "    <tr>\n",
       "      <th>2005-01-05 00:00:00-05:00</th>\n",
       "      <td>14.202630</td>\n",
       "      <td>25.920675</td>\n",
       "      <td>NaN</td>\n",
       "      <td>14.69</td>\n",
       "      <td>14.274515</td>\n",
       "      <td>18.693953</td>\n",
       "      <td>29.859142</td>\n",
       "      <td>9.535514</td>\n",
       "      <td>12.974243</td>\n",
       "      <td>12.00</td>\n",
       "      <td>...</td>\n",
       "      <td>6601292</td>\n",
       "      <td>3302600</td>\n",
       "      <td>3566600</td>\n",
       "      <td>2073800</td>\n",
       "      <td>2519600</td>\n",
       "      <td>2209600</td>\n",
       "      <td>19217200</td>\n",
       "      <td>1357628</td>\n",
       "      <td>5523556</td>\n",
       "      <td>2895300</td>\n",
       "    </tr>\n",
       "    <tr>\n",
       "      <th>2005-01-06 00:00:00-05:00</th>\n",
       "      <td>13.890954</td>\n",
       "      <td>25.896749</td>\n",
       "      <td>NaN</td>\n",
       "      <td>14.52</td>\n",
       "      <td>14.596457</td>\n",
       "      <td>18.526329</td>\n",
       "      <td>29.364239</td>\n",
       "      <td>9.542842</td>\n",
       "      <td>13.175215</td>\n",
       "      <td>11.94</td>\n",
       "      <td>...</td>\n",
       "      <td>11950188</td>\n",
       "      <td>3295400</td>\n",
       "      <td>6159600</td>\n",
       "      <td>1909200</td>\n",
       "      <td>2798600</td>\n",
       "      <td>1920000</td>\n",
       "      <td>10759300</td>\n",
       "      <td>787509</td>\n",
       "      <td>5419378</td>\n",
       "      <td>3014500</td>\n",
       "    </tr>\n",
       "    <tr>\n",
       "      <th>2005-01-07 00:00:00-05:00</th>\n",
       "      <td>13.878733</td>\n",
       "      <td>25.747234</td>\n",
       "      <td>NaN</td>\n",
       "      <td>14.29</td>\n",
       "      <td>14.846500</td>\n",
       "      <td>19.393610</td>\n",
       "      <td>29.384233</td>\n",
       "      <td>9.403691</td>\n",
       "      <td>13.076375</td>\n",
       "      <td>12.15</td>\n",
       "      <td>...</td>\n",
       "      <td>13965402</td>\n",
       "      <td>10569900</td>\n",
       "      <td>8512400</td>\n",
       "      <td>900600</td>\n",
       "      <td>2342400</td>\n",
       "      <td>2061500</td>\n",
       "      <td>16590200</td>\n",
       "      <td>1070082</td>\n",
       "      <td>8944711</td>\n",
       "      <td>3293000</td>\n",
       "    </tr>\n",
       "  </tbody>\n",
       "</table>\n",
       "<p>5 rows × 84 columns</p>\n",
       "</div>"
      ],
      "text/plain": [
       "                           Adj Close                                    \\\n",
       "                                   A        AAP ABBV   ABMD        ABT   \n",
       "Date                                                                     \n",
       "2005-01-03 00:00:00-05:00  14.593754  26.046278  NaN  15.01  14.587080   \n",
       "2005-01-04 00:00:00-05:00  14.208741  25.872828  NaN  14.98  14.440171   \n",
       "2005-01-05 00:00:00-05:00  14.202630  25.920675  NaN  14.69  14.274515   \n",
       "2005-01-06 00:00:00-05:00  13.890954  25.896749  NaN  14.52  14.596457   \n",
       "2005-01-07 00:00:00-05:00  13.878733  25.747234  NaN  14.29  14.846500   \n",
       "\n",
       "                                                                             \\\n",
       "                                 ACN       ADBE       AES        AFL   AKAM   \n",
       "Date                                                                          \n",
       "2005-01-03 00:00:00-05:00  19.218695  30.838949  9.923674  13.082966  12.82   \n",
       "2005-01-04 00:00:00-05:00  18.766834  30.024111  9.557489  13.069787  12.20   \n",
       "2005-01-05 00:00:00-05:00  18.693953  29.859142  9.535514  12.974243  12.00   \n",
       "2005-01-06 00:00:00-05:00  18.526329  29.364239  9.542842  13.175215  11.94   \n",
       "2005-01-07 00:00:00-05:00  19.393610  29.384233  9.403691  13.076375  12.15   \n",
       "\n",
       "                           ...    Volume                                       \\\n",
       "                           ...       ABT       ACN     ADBE      AES      AFL   \n",
       "Date                       ...                                                  \n",
       "2005-01-03 00:00:00-05:00  ...   7165902   2425500  5508800  2011200  2342200   \n",
       "2005-01-04 00:00:00-05:00  ...   7886828   4101800  7515400  2242500  3044800   \n",
       "2005-01-05 00:00:00-05:00  ...   6601292   3302600  3566600  2073800  2519600   \n",
       "2005-01-06 00:00:00-05:00  ...  11950188   3295400  6159600  1909200  2798600   \n",
       "2005-01-07 00:00:00-05:00  ...  13965402  10569900  8512400   900600  2342400   \n",
       "\n",
       "                                                                         \n",
       "                              AKAM       AMD      APD     ATVI      MMM  \n",
       "Date                                                                     \n",
       "2005-01-03 00:00:00-05:00  2508200   9275300   892906  7157689  3192000  \n",
       "2005-01-04 00:00:00-05:00  2066700  20375800  1456972  7491911  3644600  \n",
       "2005-01-05 00:00:00-05:00  2209600  19217200  1357628  5523556  2895300  \n",
       "2005-01-06 00:00:00-05:00  1920000  10759300   787509  5419378  3014500  \n",
       "2005-01-07 00:00:00-05:00  2061500  16590200  1070082  8944711  3293000  \n",
       "\n",
       "[5 rows x 84 columns]"
      ]
     },
     "execution_count": 7,
     "metadata": {},
     "output_type": "execute_result"
    }
   ],
   "source": [
    "stonks = 'MMM,ABT,ABBV,ABMD,ACN,ATVI,ADBE,AMD,AAP,AES,AFL,A,APD,AKAM'#,ALK,ALB,ARE,ALGN,ALLE,LNT,ALL,GOOGL,GOOG,MO,AMZN,AMCR,AEE,AAL,AEP,AXP,AIG,AMT,AWK,AMP,ABC,AME,AMGN,APH,ADI,ANSS'#,ANTM,AON,AOS,APA,AAPL,AMAT,APTV,ADM,ANET,AJG,AIZ,T,ATO,ADSK,ADP,AZO,AVB,AVY,BKR,BLL,BAC,BBWI,BAX,BDX,BBY,BIO,TECH,BIIB,BLK,BK,BA,BKNG,BWA,BXP,BSX,BMY,AVGO,BR,BRO,CHRW,CDNS,CZR,CPB,COF,CAH,KMX,CCL,CARR,CTLT,CAT,CBOE,CBRE,CDW,CE,CNC,CNP,CDAY,CERN,CF,CRL,SCHW,CHTR,CVX,CMG,CB,CHD,CI,CINF,CTAS,CSCO,C,CFG,CTXS,CLX,CME,CMS,KO,CTSH,CL,CMCSA,CMA,CAG,COP,ED,STZ,COO,CPRT,GLW,CTVA,COST,CTRA,CCI,CSX,CMI,CVS,DHI,DHR,DRI,DVA,DE,DAL,XRAY,DVN,DXCM,FANG,DLR,DFS,DISCA,DISCK,DISH,DG,DLTR,D,DPZ,DOV,DOW,DTE,DUK,DRE,DD,DXC,EMN,ETN,EBAY,ECL,EIX,EW,EA,EMR,ENPH,ETR,EOG,EFX,EQIX,EQR,ESS,EL,ETSY,EVRG,ES,RE,EXC,EXPE,EXPD,EXR,XOM,FFIV,FAST,FRT,FDX,FIS,FITB,FE,FRC,FISV,FLT,FMC,F,FTNT,FTV,FBHS,FOXA,FOX,BEN,FCX,GPS,GRMN,IT,GNRC,GD,GE,GIS,GM,GPC,GILD,GL,GPN,GS,GWW,HAL,HBI,HIG,HAS,HCA,PEAK,HSIC,HSY,HES,HPE,HLT,HOLX,HD,HON,HRL,HST,HWM,HPQ,HUM,HBAN,HII,IEX,IDXX,INFO,ITW,ILMN,INCY,IR,INTC,ICE,IBM,IP,IPG,IFF,INTU,ISRG,IVZ,IPGP,IQV,IRM,JKHY,J,JBHT,SJM,JNJ,JCI,JPM,JNPR,KSU,K,KEY,KEYS,KMB,KIM,KMI,KLAC,KHC,KR,LHX,LH,LRCX,LW,LVS,LEG,LDOS,LEN,LLY,LNC,LIN,LYV,LKQ,LMT,L,LOW,LUMN,LYB,MTB,MRO,MPC,MKTX,MAR,MMC,MLM,MAS,MA,MTCH,MKC,MCD,MCK,MDT,MRK,FB,MET,MTD,MGM,MCHP,MU,MSFT,MAA,MRNA,MHK,TAP,MDLZ,MPWR,MNST,MCO,MS,MOS,MSI,MSCI,NDAQ,NTAP,NFLX,NWL,NEM,NWSA,NWS,NEE,NLSN,NKE,NI,NSC,NTRS,NOC,NLOK,NCLH,NRG,NUE,NVDA,NVR,NXPI,ORLY,OXY,ODFL,OMC,OKE,ORCL,OGN,OTIS,PCAR,PKG,PH,PAYX,PAYC,PYPL,PENN,PNR,PBCT,PEP,PKI,PFE,PM,PSX,PNW,PXD,PNC,POOL,PPG,PPL,PFG,PG,PGR,PLD,PRU,PTC,PEG,PSA,PHM,PVH,QRVO,PWR,QCOM,DGX,RL,RJF,RTX,O,REG,REGN,RF,RSG,RMD,RHI,ROK,ROL,ROP,ROST,RCL,SPGI,CRM,SBAC,SLB,STX,SEE,SRE,NOW,SHW,SPG,SWKS,SNA,SO,LUV,SWK,SBUX,STT,STE,SYK,SIVB,SYF,SNPS,SYY,TMUS,TROW,TTWO,TPR,TGT,TEL,TDY,TFX,TER,TSLA,TXN,TXT,TMO,TJX,TSCO,TT,TDG,TRV,TRMB,TFC,TWTR,TYL,TSN,UDR,ULTA,USB,UAA,UA,UNP,UAL,UNH,UPS,URI,UHS,VLO,VTR,VRSN,VRSK,VZ,VRTX,VFC,VIAC,VTRS,V,VNO,VMC,WRB,WAB,WMT,WBA,DIS,WM,WAT,WEC,WFC,WELL,WST,WDC,WU,WRK,WY,WHR,WMB,WLTW,WYNN,XEL,XLNX,XYL,YUM,ZBRA,ZBH,ZION,ZTS'\n",
    "syms = stonks.split(',')\n",
    "df = yf.download(stonks, start='2005-1-1')\n",
    "df.head()"
   ]
  },
  {
   "cell_type": "code",
   "execution_count": 12,
   "id": "467c111d-c1e9-4a9d-84ec-d2fe9a08db35",
   "metadata": {},
   "outputs": [],
   "source": [
    "adj = df['Adj Close'].ffill()\n",
    "rets = adj.pct_change().fillna(0)\n",
    "rets[np.isinf(rets)]=0"
   ]
  },
  {
   "cell_type": "code",
   "execution_count": 18,
   "id": "3d6f5396-4de8-46bb-b6db-09c590543e88",
   "metadata": {},
   "outputs": [],
   "source": [
    "roc = adj.transform(lambda x: talib.ROC(x, 10))"
   ]
  },
  {
   "cell_type": "code",
   "execution_count": 20,
   "id": "d938f7f1-4d3f-4818-838e-c2e67de18f6e",
   "metadata": {},
   "outputs": [
    {
     "data": {
      "text/plain": [
       "-0.03472025892618989"
      ]
     },
     "execution_count": 20,
     "metadata": {},
     "output_type": "execute_result"
    }
   ],
   "source": [
    "roc.corrwith(rets.shift(-1),axis=0).mean()"
   ]
  },
  {
   "cell_type": "code",
   "execution_count": 21,
   "id": "99357926-1e3c-4eb8-86ec-d7c317e7e07e",
   "metadata": {},
   "outputs": [
    {
     "data": {
      "text/plain": [
       "-0.009457668935367248"
      ]
     },
     "execution_count": 21,
     "metadata": {},
     "output_type": "execute_result"
    }
   ],
   "source": [
    "roc.corrwith(rets.shift(-1),axis=1).mean() #cross sectional correlation"
   ]
  },
  {
   "cell_type": "code",
   "execution_count": 27,
   "id": "955cb012-7646-44a9-ad64-1153abd95c83",
   "metadata": {},
   "outputs": [],
   "source": [
    "aroon = pd.DataFrame({sym: talib.AROONOSC(df.High[sym],df.Low[sym],5) for sym in syms})\n",
    "cci = pd.DataFrame({sym: talib.CCI(df.High[sym],df.Low[sym],df.Close[sym], 20) for sym in syms})\n",
    "bop = pd.DataFrame({sym: talib.BOP(df.Open[sym], df.High[sym],df.Low[sym],df.Close[sym]) for sym in syms})\n"
   ]
  },
  {
   "cell_type": "code",
   "execution_count": 30,
   "id": "857b8719-6002-4346-acf0-93cbfd991239",
   "metadata": {},
   "outputs": [
    {
     "name": "stdout",
     "output_type": "stream",
     "text": [
      "-0.019591972145790133\n",
      "-0.01820281776167474\n",
      "-0.026509365776348517\n"
     ]
    }
   ],
   "source": [
    "print(aroon.corrwith(rets.shift(-1),axis=0).mean())\n",
    "print(cci.corrwith(rets.shift(-1), axis=0).mean())\n",
    "print(bop.corrwith(rets.shift(-1), axis=0).mean())"
   ]
  },
  {
   "cell_type": "code",
   "execution_count": 31,
   "id": "c68b1f62-e7a6-4d4f-a2f0-196f577c6e72",
   "metadata": {},
   "outputs": [
    {
     "data": {
      "text/plain": [
       "array([[1.        , 0.52852755, 0.76033541, 0.23162509],\n",
       "       [0.52852755, 1.        , 0.68089102, 0.1669595 ],\n",
       "       [0.76033541, 0.68089102, 1.        , 0.25568141],\n",
       "       [0.23162509, 0.1669595 , 0.25568141, 1.        ]])"
      ]
     },
     "execution_count": 31,
     "metadata": {},
     "output_type": "execute_result"
    }
   ],
   "source": [
    "m = np.zeros((4,4))\n",
    "for i,a in enumerate([roc,aroon,cci,bop]):\n",
    "    for j,b in enumerate([roc,aroon,cci,bop]):\n",
    "        m[i,j] = a.corrwith(b).mean()\n",
    "m"
   ]
  },
  {
   "cell_type": "code",
   "execution_count": 32,
   "id": "d02fe673-d4af-4ad2-8b60-82ea621c85b5",
   "metadata": {},
   "outputs": [
    {
     "data": {
      "text/plain": [
       "0.43733666379708286"
      ]
     },
     "execution_count": 32,
     "metadata": {},
     "output_type": "execute_result"
    }
   ],
   "source": [
    "np.sum(np.triu(m)-np.identity(4))/6"
   ]
  },
  {
   "cell_type": "code",
   "execution_count": 37,
   "id": "a78f09f2-cdf7-4212-8e7d-b0b78a3b8cd1",
   "metadata": {},
   "outputs": [
    {
     "data": {
      "image/png": "[encoded data removed]",
      "text/plain": [
       "<Figure size 432x288 with 1 Axes>"
      ]
     },
     "metadata": {
      "needs_background": "light"
     },
     "output_type": "display_data"
    }
   ],
   "source": [
    "(-rets.shift(-1).fillna(0)*np.sign(roc)).mean(axis=1).cumsum().plot()"
   ]
  },
  {
   "cell_type": "code",
   "execution_count": 38,
   "id": "bb799e3c-f89f-4559-949d-92a142e2b372",
   "metadata": {},
   "outputs": [
    {
     "data": {
      "image/png": "[encoded data removed]",
      "text/plain": [
       "<Figure size 432x288 with 1 Axes>"
      ]
     },
     "metadata": {
      "needs_background": "light"
     },
     "output_type": "display_data"
    }
   ],
   "source": [
    "(-rets.shift(-1).fillna(0)*np.sign(aroon)).mean(axis=1).cumsum().plot()"
   ]
  },
  {
   "cell_type": "code",
   "execution_count": 35,
   "id": "4176133b-4eed-4a27-8712-21dfdd37daee",
   "metadata": {},
   "outputs": [
    {
     "data": {
      "text/plain": [
       "<AxesSubplot:xlabel='Date'>"
      ]
     },
     "execution_count": 35,
     "metadata": {},
     "output_type": "execute_result"
    },
    {
     "data": {
      "image/png": "[encoded data removed]",
      "text/plain": [
       "<Figure size 432x288 with 1 Axes>"
      ]
     },
     "metadata": {
      "needs_background": "light"
     },
     "output_type": "display_data"
    }
   ],
   "source": [
    "(-rets.shift(-1).fillna(0)*np.sign(bop)).mean(axis=1).cumsum().plot()"
   ]
  },
  {
   "cell_type": "code",
   "execution_count": 36,
   "id": "9817d8a8-6bda-428e-9d28-db584301a958",
   "metadata": {},
   "outputs": [
    {
     "data": {
      "text/plain": [
       "<AxesSubplot:xlabel='Date'>"
      ]
     },
     "execution_count": 36,
     "metadata": {},
     "output_type": "execute_result"
    },
    {
     "data": {
      "image/png": "[encoded data removed]",
      "text/plain": [
       "<Figure size 432x288 with 1 Axes>"
      ]
     },
     "metadata": {
      "needs_background": "light"
     },
     "output_type": "display_data"
    }
   ],
   "source": [
    "(-rets.shift(-1).fillna(0)*np.sign(cci)).mean(axis=1).cumsum().plot()"
   ]
  },
  {
   "cell_type": "code",
   "execution_count": 39,
   "id": "c53793a7-41cc-42f0-89f9-d1735f46c984",
   "metadata": {},
   "outputs": [
    {
     "data": {
      "text/plain": [
       "<AxesSubplot:xlabel='Date'>"
      ]
     },
     "execution_count": 39,
     "metadata": {},
     "output_type": "execute_result"
    },
    {
     "data": {
      "image/png": "[encoded data removed]",
      "text/plain": [
       "<Figure size 432x288 with 1 Axes>"
      ]
     },
     "metadata": {
      "needs_background": "light"
     },
     "output_type": "display_data"
    }
   ],
   "source": [
    "a = (-rets.shift(-1).fillna(0)*np.sign(roc)).mean(axis=1).cumsum()\n",
    "b = (-rets.shift(-1).fillna(0)*np.sign(aroon)).mean(axis=1).cumsum()\n",
    "c = (-rets.shift(-1).fillna(0)*np.sign(bop)).mean(axis=1).cumsum()\n",
    "d = (-rets.shift(-1).fillna(0)*np.sign(cci)).mean(axis=1).cumsum()\n",
    "\n",
    "(a+b+c+d).plot()"
   ]
  },
  {
   "cell_type": "code",
   "execution_count": 43,
   "id": "92ec6810-3876-4d3c-881c-487f00e24a23",
   "metadata": {},
   "outputs": [
    {
     "data": {
      "text/html": [
       "<div>\n",
       "<style scoped>\n",
       "    .dataframe tbody tr th:only-of-type {\n",
       "        vertical-align: middle;\n",
       "    }\n",
       "\n",
       "    .dataframe tbody tr th {\n",
       "        vertical-align: top;\n",
       "    }\n",
       "\n",
       "    .dataframe thead th {\n",
       "        text-align: right;\n",
       "    }\n",
       "</style>\n",
       "<table border=\"1\" class=\"dataframe\">\n",
       "  <thead>\n",
       "    <tr style=\"text-align: right;\">\n",
       "      <th></th>\n",
       "      <th>A</th>\n",
       "      <th>AAP</th>\n",
       "      <th>ABBV</th>\n",
       "      <th>ABMD</th>\n",
       "      <th>ABT</th>\n",
       "      <th>ACN</th>\n",
       "      <th>ADBE</th>\n",
       "      <th>AES</th>\n",
       "      <th>AFL</th>\n",
       "      <th>AKAM</th>\n",
       "      <th>AMD</th>\n",
       "      <th>APD</th>\n",
       "      <th>ATVI</th>\n",
       "      <th>MMM</th>\n",
       "    </tr>\n",
       "    <tr>\n",
       "      <th>Date</th>\n",
       "      <th></th>\n",
       "      <th></th>\n",
       "      <th></th>\n",
       "      <th></th>\n",
       "      <th></th>\n",
       "      <th></th>\n",
       "      <th></th>\n",
       "      <th></th>\n",
       "      <th></th>\n",
       "      <th></th>\n",
       "      <th></th>\n",
       "      <th></th>\n",
       "      <th></th>\n",
       "      <th></th>\n",
       "    </tr>\n",
       "  </thead>\n",
       "  <tbody>\n",
       "    <tr>\n",
       "      <th>2005-01-03 00:00:00-05:00</th>\n",
       "      <td>0</td>\n",
       "      <td>1</td>\n",
       "      <td>2</td>\n",
       "      <td>3</td>\n",
       "      <td>4</td>\n",
       "      <td>5</td>\n",
       "      <td>6</td>\n",
       "      <td>7</td>\n",
       "      <td>8</td>\n",
       "      <td>9</td>\n",
       "      <td>10</td>\n",
       "      <td>11</td>\n",
       "      <td>12</td>\n",
       "      <td>13</td>\n",
       "    </tr>\n",
       "    <tr>\n",
       "      <th>2005-01-04 00:00:00-05:00</th>\n",
       "      <td>0</td>\n",
       "      <td>1</td>\n",
       "      <td>2</td>\n",
       "      <td>3</td>\n",
       "      <td>4</td>\n",
       "      <td>5</td>\n",
       "      <td>6</td>\n",
       "      <td>7</td>\n",
       "      <td>8</td>\n",
       "      <td>9</td>\n",
       "      <td>10</td>\n",
       "      <td>11</td>\n",
       "      <td>12</td>\n",
       "      <td>13</td>\n",
       "    </tr>\n",
       "    <tr>\n",
       "      <th>2005-01-05 00:00:00-05:00</th>\n",
       "      <td>0</td>\n",
       "      <td>1</td>\n",
       "      <td>2</td>\n",
       "      <td>3</td>\n",
       "      <td>4</td>\n",
       "      <td>5</td>\n",
       "      <td>6</td>\n",
       "      <td>7</td>\n",
       "      <td>8</td>\n",
       "      <td>9</td>\n",
       "      <td>10</td>\n",
       "      <td>11</td>\n",
       "      <td>12</td>\n",
       "      <td>13</td>\n",
       "    </tr>\n",
       "    <tr>\n",
       "      <th>2005-01-06 00:00:00-05:00</th>\n",
       "      <td>0</td>\n",
       "      <td>1</td>\n",
       "      <td>2</td>\n",
       "      <td>3</td>\n",
       "      <td>4</td>\n",
       "      <td>5</td>\n",
       "      <td>6</td>\n",
       "      <td>7</td>\n",
       "      <td>8</td>\n",
       "      <td>9</td>\n",
       "      <td>10</td>\n",
       "      <td>11</td>\n",
       "      <td>12</td>\n",
       "      <td>13</td>\n",
       "    </tr>\n",
       "    <tr>\n",
       "      <th>2005-01-07 00:00:00-05:00</th>\n",
       "      <td>0</td>\n",
       "      <td>1</td>\n",
       "      <td>2</td>\n",
       "      <td>3</td>\n",
       "      <td>4</td>\n",
       "      <td>5</td>\n",
       "      <td>6</td>\n",
       "      <td>7</td>\n",
       "      <td>8</td>\n",
       "      <td>9</td>\n",
       "      <td>10</td>\n",
       "      <td>11</td>\n",
       "      <td>12</td>\n",
       "      <td>13</td>\n",
       "    </tr>\n",
       "    <tr>\n",
       "      <th>...</th>\n",
       "      <td>...</td>\n",
       "      <td>...</td>\n",
       "      <td>...</td>\n",
       "      <td>...</td>\n",
       "      <td>...</td>\n",
       "      <td>...</td>\n",
       "      <td>...</td>\n",
       "      <td>...</td>\n",
       "      <td>...</td>\n",
       "      <td>...</td>\n",
       "      <td>...</td>\n",
       "      <td>...</td>\n",
       "      <td>...</td>\n",
       "      <td>...</td>\n",
       "    </tr>\n",
       "    <tr>\n",
       "      <th>2023-02-28 00:00:00-05:00</th>\n",
       "      <td>9</td>\n",
       "      <td>5</td>\n",
       "      <td>13</td>\n",
       "      <td>6</td>\n",
       "      <td>0</td>\n",
       "      <td>7</td>\n",
       "      <td>4</td>\n",
       "      <td>8</td>\n",
       "      <td>12</td>\n",
       "      <td>1</td>\n",
       "      <td>10</td>\n",
       "      <td>11</td>\n",
       "      <td>2</td>\n",
       "      <td>3</td>\n",
       "    </tr>\n",
       "    <tr>\n",
       "      <th>2023-03-01 00:00:00-05:00</th>\n",
       "      <td>5</td>\n",
       "      <td>0</td>\n",
       "      <td>6</td>\n",
       "      <td>1</td>\n",
       "      <td>9</td>\n",
       "      <td>7</td>\n",
       "      <td>4</td>\n",
       "      <td>12</td>\n",
       "      <td>10</td>\n",
       "      <td>13</td>\n",
       "      <td>8</td>\n",
       "      <td>11</td>\n",
       "      <td>2</td>\n",
       "      <td>3</td>\n",
       "    </tr>\n",
       "    <tr>\n",
       "      <th>2023-03-02 00:00:00-05:00</th>\n",
       "      <td>5</td>\n",
       "      <td>7</td>\n",
       "      <td>8</td>\n",
       "      <td>1</td>\n",
       "      <td>6</td>\n",
       "      <td>9</td>\n",
       "      <td>0</td>\n",
       "      <td>10</td>\n",
       "      <td>4</td>\n",
       "      <td>13</td>\n",
       "      <td>2</td>\n",
       "      <td>12</td>\n",
       "      <td>11</td>\n",
       "      <td>3</td>\n",
       "    </tr>\n",
       "    <tr>\n",
       "      <th>2023-03-03 00:00:00-05:00</th>\n",
       "      <td>1</td>\n",
       "      <td>5</td>\n",
       "      <td>7</td>\n",
       "      <td>0</td>\n",
       "      <td>8</td>\n",
       "      <td>13</td>\n",
       "      <td>10</td>\n",
       "      <td>9</td>\n",
       "      <td>6</td>\n",
       "      <td>4</td>\n",
       "      <td>12</td>\n",
       "      <td>11</td>\n",
       "      <td>2</td>\n",
       "      <td>3</td>\n",
       "    </tr>\n",
       "    <tr>\n",
       "      <th>2023-03-06 00:00:00-05:00</th>\n",
       "      <td>1</td>\n",
       "      <td>7</td>\n",
       "      <td>4</td>\n",
       "      <td>13</td>\n",
       "      <td>8</td>\n",
       "      <td>9</td>\n",
       "      <td>5</td>\n",
       "      <td>0</td>\n",
       "      <td>10</td>\n",
       "      <td>6</td>\n",
       "      <td>2</td>\n",
       "      <td>12</td>\n",
       "      <td>11</td>\n",
       "      <td>3</td>\n",
       "    </tr>\n",
       "  </tbody>\n",
       "</table>\n",
       "<p>4574 rows × 14 columns</p>\n",
       "</div>"
      ],
      "text/plain": [
       "                           A  AAP  ABBV  ABMD  ABT  ACN  ADBE  AES  AFL  AKAM  \\\n",
       "Date                                                                            \n",
       "2005-01-03 00:00:00-05:00  0    1     2     3    4    5     6    7    8     9   \n",
       "2005-01-04 00:00:00-05:00  0    1     2     3    4    5     6    7    8     9   \n",
       "2005-01-05 00:00:00-05:00  0    1     2     3    4    5     6    7    8     9   \n",
       "2005-01-06 00:00:00-05:00  0    1     2     3    4    5     6    7    8     9   \n",
       "2005-01-07 00:00:00-05:00  0    1     2     3    4    5     6    7    8     9   \n",
       "...                       ..  ...   ...   ...  ...  ...   ...  ...  ...   ...   \n",
       "2023-02-28 00:00:00-05:00  9    5    13     6    0    7     4    8   12     1   \n",
       "2023-03-01 00:00:00-05:00  5    0     6     1    9    7     4   12   10    13   \n",
       "2023-03-02 00:00:00-05:00  5    7     8     1    6    9     0   10    4    13   \n",
       "2023-03-03 00:00:00-05:00  1    5     7     0    8   13    10    9    6     4   \n",
       "2023-03-06 00:00:00-05:00  1    7     4    13    8    9     5    0   10     6   \n",
       "\n",
       "                           AMD  APD  ATVI  MMM  \n",
       "Date                                            \n",
       "2005-01-03 00:00:00-05:00   10   11    12   13  \n",
       "2005-01-04 00:00:00-05:00   10   11    12   13  \n",
       "2005-01-05 00:00:00-05:00   10   11    12   13  \n",
       "2005-01-06 00:00:00-05:00   10   11    12   13  \n",
       "2005-01-07 00:00:00-05:00   10   11    12   13  \n",
       "...                        ...  ...   ...  ...  \n",
       "2023-02-28 00:00:00-05:00   10   11     2    3  \n",
       "2023-03-01 00:00:00-05:00    8   11     2    3  \n",
       "2023-03-02 00:00:00-05:00    2   12    11    3  \n",
       "2023-03-03 00:00:00-05:00   12   11     2    3  \n",
       "2023-03-06 00:00:00-05:00    2   12    11    3  \n",
       "\n",
       "[4574 rows x 14 columns]"
      ]
     },
     "execution_count": 43,
     "metadata": {},
     "output_type": "execute_result"
    }
   ],
   "source": [
    "combined = aroon/aroon.std(axis=0) + roc/roc.std(axis=0) + bop/bop .std(axis=0) + cci/cci.std(axis=0)\n",
    "ranking = np.argsort(combined,axis=1)\n",
    "ranking #go short lowest ranked, and long highest ranked"
   ]
  },
  {
   "cell_type": "code",
   "execution_count": 45,
   "id": "a7d14922-54cd-439e-959f-5c0aa7a930d2",
   "metadata": {},
   "outputs": [
    {
     "data": {
      "text/html": [
       "<div>\n",
       "<style scoped>\n",
       "    .dataframe tbody tr th:only-of-type {\n",
       "        vertical-align: middle;\n",
       "    }\n",
       "\n",
       "    .dataframe tbody tr th {\n",
       "        vertical-align: top;\n",
       "    }\n",
       "\n",
       "    .dataframe thead th {\n",
       "        text-align: right;\n",
       "    }\n",
       "</style>\n",
       "<table border=\"1\" class=\"dataframe\">\n",
       "  <thead>\n",
       "    <tr style=\"text-align: right;\">\n",
       "      <th></th>\n",
       "      <th>A</th>\n",
       "      <th>AAP</th>\n",
       "      <th>ABBV</th>\n",
       "      <th>ABMD</th>\n",
       "      <th>ABT</th>\n",
       "      <th>ACN</th>\n",
       "      <th>ADBE</th>\n",
       "      <th>AES</th>\n",
       "      <th>AFL</th>\n",
       "      <th>AKAM</th>\n",
       "      <th>AMD</th>\n",
       "      <th>APD</th>\n",
       "      <th>ATVI</th>\n",
       "      <th>MMM</th>\n",
       "    </tr>\n",
       "    <tr>\n",
       "      <th>Date</th>\n",
       "      <th></th>\n",
       "      <th></th>\n",
       "      <th></th>\n",
       "      <th></th>\n",
       "      <th></th>\n",
       "      <th></th>\n",
       "      <th></th>\n",
       "      <th></th>\n",
       "      <th></th>\n",
       "      <th></th>\n",
       "      <th></th>\n",
       "      <th></th>\n",
       "      <th></th>\n",
       "      <th></th>\n",
       "    </tr>\n",
       "  </thead>\n",
       "  <tbody>\n",
       "    <tr>\n",
       "      <th>2005-01-03 00:00:00-05:00</th>\n",
       "      <td>1.0</td>\n",
       "      <td>1.0</td>\n",
       "      <td>1.0</td>\n",
       "      <td>1.0</td>\n",
       "      <td>NaN</td>\n",
       "      <td>NaN</td>\n",
       "      <td>NaN</td>\n",
       "      <td>NaN</td>\n",
       "      <td>NaN</td>\n",
       "      <td>NaN</td>\n",
       "      <td>NaN</td>\n",
       "      <td>NaN</td>\n",
       "      <td>NaN</td>\n",
       "      <td>NaN</td>\n",
       "    </tr>\n",
       "    <tr>\n",
       "      <th>2005-01-04 00:00:00-05:00</th>\n",
       "      <td>1.0</td>\n",
       "      <td>1.0</td>\n",
       "      <td>1.0</td>\n",
       "      <td>1.0</td>\n",
       "      <td>NaN</td>\n",
       "      <td>NaN</td>\n",
       "      <td>NaN</td>\n",
       "      <td>NaN</td>\n",
       "      <td>NaN</td>\n",
       "      <td>NaN</td>\n",
       "      <td>NaN</td>\n",
       "      <td>NaN</td>\n",
       "      <td>NaN</td>\n",
       "      <td>NaN</td>\n",
       "    </tr>\n",
       "    <tr>\n",
       "      <th>2005-01-05 00:00:00-05:00</th>\n",
       "      <td>1.0</td>\n",
       "      <td>1.0</td>\n",
       "      <td>1.0</td>\n",
       "      <td>1.0</td>\n",
       "      <td>NaN</td>\n",
       "      <td>NaN</td>\n",
       "      <td>NaN</td>\n",
       "      <td>NaN</td>\n",
       "      <td>NaN</td>\n",
       "      <td>NaN</td>\n",
       "      <td>NaN</td>\n",
       "      <td>NaN</td>\n",
       "      <td>NaN</td>\n",
       "      <td>NaN</td>\n",
       "    </tr>\n",
       "    <tr>\n",
       "      <th>2005-01-06 00:00:00-05:00</th>\n",
       "      <td>1.0</td>\n",
       "      <td>1.0</td>\n",
       "      <td>1.0</td>\n",
       "      <td>1.0</td>\n",
       "      <td>NaN</td>\n",
       "      <td>NaN</td>\n",
       "      <td>NaN</td>\n",
       "      <td>NaN</td>\n",
       "      <td>NaN</td>\n",
       "      <td>NaN</td>\n",
       "      <td>NaN</td>\n",
       "      <td>NaN</td>\n",
       "      <td>NaN</td>\n",
       "      <td>NaN</td>\n",
       "    </tr>\n",
       "    <tr>\n",
       "      <th>2005-01-07 00:00:00-05:00</th>\n",
       "      <td>1.0</td>\n",
       "      <td>1.0</td>\n",
       "      <td>1.0</td>\n",
       "      <td>1.0</td>\n",
       "      <td>NaN</td>\n",
       "      <td>NaN</td>\n",
       "      <td>NaN</td>\n",
       "      <td>NaN</td>\n",
       "      <td>NaN</td>\n",
       "      <td>NaN</td>\n",
       "      <td>NaN</td>\n",
       "      <td>NaN</td>\n",
       "      <td>NaN</td>\n",
       "      <td>NaN</td>\n",
       "    </tr>\n",
       "    <tr>\n",
       "      <th>...</th>\n",
       "      <td>...</td>\n",
       "      <td>...</td>\n",
       "      <td>...</td>\n",
       "      <td>...</td>\n",
       "      <td>...</td>\n",
       "      <td>...</td>\n",
       "      <td>...</td>\n",
       "      <td>...</td>\n",
       "      <td>...</td>\n",
       "      <td>...</td>\n",
       "      <td>...</td>\n",
       "      <td>...</td>\n",
       "      <td>...</td>\n",
       "      <td>...</td>\n",
       "    </tr>\n",
       "    <tr>\n",
       "      <th>2023-02-28 00:00:00-05:00</th>\n",
       "      <td>NaN</td>\n",
       "      <td>NaN</td>\n",
       "      <td>NaN</td>\n",
       "      <td>NaN</td>\n",
       "      <td>1.0</td>\n",
       "      <td>NaN</td>\n",
       "      <td>NaN</td>\n",
       "      <td>NaN</td>\n",
       "      <td>NaN</td>\n",
       "      <td>1.0</td>\n",
       "      <td>NaN</td>\n",
       "      <td>NaN</td>\n",
       "      <td>1.0</td>\n",
       "      <td>1.0</td>\n",
       "    </tr>\n",
       "    <tr>\n",
       "      <th>2023-03-01 00:00:00-05:00</th>\n",
       "      <td>NaN</td>\n",
       "      <td>1.0</td>\n",
       "      <td>NaN</td>\n",
       "      <td>1.0</td>\n",
       "      <td>NaN</td>\n",
       "      <td>NaN</td>\n",
       "      <td>NaN</td>\n",
       "      <td>NaN</td>\n",
       "      <td>NaN</td>\n",
       "      <td>NaN</td>\n",
       "      <td>NaN</td>\n",
       "      <td>NaN</td>\n",
       "      <td>1.0</td>\n",
       "      <td>1.0</td>\n",
       "    </tr>\n",
       "    <tr>\n",
       "      <th>2023-03-02 00:00:00-05:00</th>\n",
       "      <td>NaN</td>\n",
       "      <td>NaN</td>\n",
       "      <td>NaN</td>\n",
       "      <td>1.0</td>\n",
       "      <td>NaN</td>\n",
       "      <td>NaN</td>\n",
       "      <td>1.0</td>\n",
       "      <td>NaN</td>\n",
       "      <td>NaN</td>\n",
       "      <td>NaN</td>\n",
       "      <td>1.0</td>\n",
       "      <td>NaN</td>\n",
       "      <td>NaN</td>\n",
       "      <td>1.0</td>\n",
       "    </tr>\n",
       "    <tr>\n",
       "      <th>2023-03-03 00:00:00-05:00</th>\n",
       "      <td>1.0</td>\n",
       "      <td>NaN</td>\n",
       "      <td>NaN</td>\n",
       "      <td>1.0</td>\n",
       "      <td>NaN</td>\n",
       "      <td>NaN</td>\n",
       "      <td>NaN</td>\n",
       "      <td>NaN</td>\n",
       "      <td>NaN</td>\n",
       "      <td>NaN</td>\n",
       "      <td>NaN</td>\n",
       "      <td>NaN</td>\n",
       "      <td>1.0</td>\n",
       "      <td>1.0</td>\n",
       "    </tr>\n",
       "    <tr>\n",
       "      <th>2023-03-06 00:00:00-05:00</th>\n",
       "      <td>1.0</td>\n",
       "      <td>NaN</td>\n",
       "      <td>NaN</td>\n",
       "      <td>NaN</td>\n",
       "      <td>NaN</td>\n",
       "      <td>NaN</td>\n",
       "      <td>NaN</td>\n",
       "      <td>1.0</td>\n",
       "      <td>NaN</td>\n",
       "      <td>NaN</td>\n",
       "      <td>1.0</td>\n",
       "      <td>NaN</td>\n",
       "      <td>NaN</td>\n",
       "      <td>1.0</td>\n",
       "    </tr>\n",
       "  </tbody>\n",
       "</table>\n",
       "<p>4574 rows × 14 columns</p>\n",
       "</div>"
      ],
      "text/plain": [
       "                             A  AAP  ABBV  ABMD  ABT  ACN  ADBE  AES  AFL  \\\n",
       "Date                                                                        \n",
       "2005-01-03 00:00:00-05:00  1.0  1.0   1.0   1.0  NaN  NaN   NaN  NaN  NaN   \n",
       "2005-01-04 00:00:00-05:00  1.0  1.0   1.0   1.0  NaN  NaN   NaN  NaN  NaN   \n",
       "2005-01-05 00:00:00-05:00  1.0  1.0   1.0   1.0  NaN  NaN   NaN  NaN  NaN   \n",
       "2005-01-06 00:00:00-05:00  1.0  1.0   1.0   1.0  NaN  NaN   NaN  NaN  NaN   \n",
       "2005-01-07 00:00:00-05:00  1.0  1.0   1.0   1.0  NaN  NaN   NaN  NaN  NaN   \n",
       "...                        ...  ...   ...   ...  ...  ...   ...  ...  ...   \n",
       "2023-02-28 00:00:00-05:00  NaN  NaN   NaN   NaN  1.0  NaN   NaN  NaN  NaN   \n",
       "2023-03-01 00:00:00-05:00  NaN  1.0   NaN   1.0  NaN  NaN   NaN  NaN  NaN   \n",
       "2023-03-02 00:00:00-05:00  NaN  NaN   NaN   1.0  NaN  NaN   1.0  NaN  NaN   \n",
       "2023-03-03 00:00:00-05:00  1.0  NaN   NaN   1.0  NaN  NaN   NaN  NaN  NaN   \n",
       "2023-03-06 00:00:00-05:00  1.0  NaN   NaN   NaN  NaN  NaN   NaN  1.0  NaN   \n",
       "\n",
       "                           AKAM  AMD  APD  ATVI  MMM  \n",
       "Date                                                  \n",
       "2005-01-03 00:00:00-05:00   NaN  NaN  NaN   NaN  NaN  \n",
       "2005-01-04 00:00:00-05:00   NaN  NaN  NaN   NaN  NaN  \n",
       "2005-01-05 00:00:00-05:00   NaN  NaN  NaN   NaN  NaN  \n",
       "2005-01-06 00:00:00-05:00   NaN  NaN  NaN   NaN  NaN  \n",
       "2005-01-07 00:00:00-05:00   NaN  NaN  NaN   NaN  NaN  \n",
       "...                         ...  ...  ...   ...  ...  \n",
       "2023-02-28 00:00:00-05:00   1.0  NaN  NaN   1.0  1.0  \n",
       "2023-03-01 00:00:00-05:00   NaN  NaN  NaN   1.0  1.0  \n",
       "2023-03-02 00:00:00-05:00   NaN  1.0  NaN   NaN  1.0  \n",
       "2023-03-03 00:00:00-05:00   NaN  NaN  NaN   1.0  1.0  \n",
       "2023-03-06 00:00:00-05:00   NaN  1.0  NaN   NaN  1.0  \n",
       "\n",
       "[4574 rows x 14 columns]"
      ]
     },
     "execution_count": 45,
     "metadata": {},
     "output_type": "execute_result"
    }
   ],
   "source": [
    "N = 4\n",
    "(np.sign(ranking[ranking<N]+1)*rets.shift(-1)).mean(axis=1).cumsum().plot()"
   ]
  },
  {
   "cell_type": "code",
   "execution_count": 46,
   "id": "efe5e4f3-3d16-4fa7-b733-c38a81e0cb1a",
   "metadata": {},
   "outputs": [
    {
     "data": {
      "text/plain": [
       "<AxesSubplot:xlabel='Date'>"
      ]
     },
     "execution_count": 46,
     "metadata": {},
     "output_type": "execute_result"
    },
    {
     "data": {
      "image/png": "[encoded data removed]",
      "text/plain": [
       "<Figure size 432x288 with 1 Axes>"
      ]
     },
     "metadata": {
      "needs_background": "light"
     },
     "output_type": "display_data"
    }
   ],
   "source": [
    "(np.sign(ranking[ranking<N]+1)*rets.shift(-1)).mean(axis=1).cumsum().plot()"
   ]
  },
  {
   "cell_type": "code",
   "execution_count": 47,
   "id": "5259586f-5422-45cf-b780-c6d43523f102",
   "metadata": {},
   "outputs": [
    {
     "data": {
      "text/plain": [
       "<AxesSubplot:xlabel='Date'>"
      ]
     },
     "execution_count": 47,
     "metadata": {},
     "output_type": "execute_result"
    },
    {
     "data": {
      "image/png": "[encoded data removed]",
      "text/plain": [
       "<Figure size 432x288 with 1 Axes>"
      ]
     },
     "metadata": {
      "needs_background": "light"
     },
     "output_type": "display_data"
    }
   ],
   "source": [
    "(1+np.sign(ranking[ranking<N]+1)*rets.shift(-1)).mean(axis=1).cumprod().plot() "
   ]
  },
  {
   "cell_type": "code",
   "execution_count": 49,
   "id": "edb275ec-2258-4542-87bd-7601adbdbaf4",
   "metadata": {},
   "outputs": [
    {
     "data": {
      "text/plain": [
       "<AxesSubplot:xlabel='Date'>"
      ]
     },
     "execution_count": 49,
     "metadata": {},
     "output_type": "execute_result"
    },
    {
     "data": {
      "image/png": "[encoded data removed]",
      "text/plain": [
       "<Figure size 432x288 with 1 Axes>"
      ]
     },
     "metadata": {
      "needs_background": "light"
     },
     "output_type": "display_data"
    }
   ],
   "source": [
    "(np.sign(ranking[ranking<N]+1)*rets.shift(-1)).mean(axis=1).cumsum().plot()\n",
    "(1+np.sign(ranking[ranking<N]+1)*rets.shift(-1)).mean(axis=1).cumprod().plot() \n",
    "(1+rets.mean(axis=1)).cumprod().plot()"
   ]
  },
  {
   "cell_type": "code",
   "execution_count": 59,
   "id": "946f1bf2-a436-4b02-9ad1-112aab0cfe87",
   "metadata": {},
   "outputs": [
    {
     "data": {
      "text/plain": [
       "1.0590740755668606"
      ]
     },
     "execution_count": 59,
     "metadata": {},
     "output_type": "execute_result"
    }
   ],
   "source": [
    "ret1 = ((np.sign(ranking[ranking<N]+1))*rets.shift(-1)).mean(axis=1)\n",
    "sharpe = np.mean(ret1 / np.std(ret1))\n",
    "sharpe*np.sqrt(252)"
   ]
  },
  {
   "cell_type": "code",
   "execution_count": null,
   "id": "e47f5dfd-d946-4ec0-9879-34f8c1b14a63",
   "metadata": {},
   "outputs": [],
   "source": []
  }
 ],
 "metadata": {
  "kernelspec": {
   "display_name": "Python 3 (ipykernel)",
   "language": "python",
   "name": "python3"
  },
  "language_info": {
   "codemirror_mode": {
    "name": "ipython",
    "version": 3
   },
   "file_extension": ".py",
   "mimetype": "text/x-python",
   "name": "python",
   "nbconvert_exporter": "python",
   "pygments_lexer": "ipython3",
   "version": "3.9.12"
  }
 },
 "nbformat": 4,
 "nbformat_minor": 5
}
